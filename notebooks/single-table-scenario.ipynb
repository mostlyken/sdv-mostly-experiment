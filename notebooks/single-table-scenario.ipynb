{
 "cells": [
  {
   "cell_type": "markdown",
   "metadata": {
    "application/vnd.databricks.v1+cell": {
     "cellMetadata": {},
     "inputWidgets": {},
     "nuid": "bd96a6c1-930d-4988-bd26-0fe16026fe44",
     "showTitle": false,
     "tableResultSettingsMap": {},
     "title": ""
    },
    "id": "WJZteD10A1eR"
   },
   "source": [
    "# MOSTLY AI vs. SDV Comparison - Single Table Scenario\n",
    "\n",
    "## Framework Comparison\n",
    "This notebook compares two synthetic data generation libraries on a large-scale dataset:\n",
    "\n",
    "- **SDV (Synthetic Data Vault)** - Business Source License\n",
    "- **MOSTLY AI SDK** - Apache 2.0 License - Open Source\n",
    "\n",
    "## Dataset & Objective\n",
    "We'll use the **US Census Income dataset (10M records)** to:\n",
    "- Compare training performance and generation speed\n",
    "- Evaluate synthetic data quality using comprehensive metrics\n",
    "- Assess privacy preservation capabilities\n",
    "- Provide practical guidance for framework selection\n",
    "\n",
    "## Key Takeaways\n",
    "- Performance benchmarks on large-scale data\n",
    "- Quality comparison metrics\n",
    "- Privacy assessment results"
   ]
  },
  {
   "cell_type": "code",
   "execution_count": 1,
   "metadata": {
    "application/vnd.databricks.v1+cell": {
     "cellMetadata": {
      "byteLimit": 2048000,
      "rowLimit": 10000
     },
     "inputWidgets": {},
     "nuid": "93cbceeb-4217-475a-9e33-970940389ba6",
     "showTitle": false,
     "tableResultSettingsMap": {},
     "title": ""
    }
   },
   "outputs": [
    {
     "name": "stdout",
     "output_type": "stream",
     "text": [
      "\u001b[2mUsing Python 3.10.18 environment at: /Users/kennethhamilton/Desktop/sdv-mostly-experiment/venv\u001b[0m\n",
      "\u001b[2K\u001b[2mResolved \u001b[1m65 packages\u001b[0m \u001b[2min 607ms\u001b[0m\u001b[0m                                        \u001b[0m\n",
      "\u001b[2K\u001b[2mPrepared \u001b[1m2 packages\u001b[0m \u001b[2min 0.92ms\u001b[0m\u001b[0m                                            \n",
      "\u001b[2mUninstalled \u001b[1m2 packages\u001b[0m \u001b[2min 110ms\u001b[0m\u001b[0m\n",
      "\u001b[2K\u001b[2mInstalled \u001b[1m2 packages\u001b[0m \u001b[2min 54ms\u001b[0m\u001b[0m                                \u001b[0m\n",
      " \u001b[31m-\u001b[39m \u001b[1mpandas\u001b[0m\u001b[2m==2.2.3\u001b[0m\n",
      " \u001b[32m+\u001b[39m \u001b[1mpandas\u001b[0m\u001b[2m==2.3.1\u001b[0m\n",
      " \u001b[31m-\u001b[39m \u001b[1mpsutil\u001b[0m\u001b[2m==5.9.8\u001b[0m\n",
      " \u001b[32m+\u001b[39m \u001b[1mpsutil\u001b[0m\u001b[2m==7.0.0\u001b[0m\n",
      "\u001b[2mUsing Python 3.10.18 environment at: /Users/kennethhamilton/Desktop/sdv-mostly-experiment/venv\u001b[0m\n",
      "\u001b[2K\u001b[2mResolved \u001b[1m173 packages\u001b[0m \u001b[2min 850ms\u001b[0m\u001b[0m                                       \u001b[0m\n",
      "\u001b[2K\u001b[2mPrepared \u001b[1m2 packages\u001b[0m \u001b[2min 0.47ms\u001b[0m\u001b[0m                                            \n",
      "\u001b[2mUninstalled \u001b[1m2 packages\u001b[0m \u001b[2min 89ms\u001b[0m\u001b[0m\n",
      "\u001b[2K\u001b[2mInstalled \u001b[1m2 packages\u001b[0m \u001b[2min 17ms\u001b[0m\u001b[0m                                \u001b[0m\n",
      " \u001b[31m-\u001b[39m \u001b[1mpandas\u001b[0m\u001b[2m==2.3.1\u001b[0m\n",
      " \u001b[32m+\u001b[39m \u001b[1mpandas\u001b[0m\u001b[2m==2.2.3\u001b[0m\n",
      " \u001b[31m-\u001b[39m \u001b[1mpsutil\u001b[0m\u001b[2m==7.0.0\u001b[0m\n",
      " \u001b[32m+\u001b[39m \u001b[1mpsutil\u001b[0m\u001b[2m==5.9.8\u001b[0m\n"
     ]
    }
   ],
   "source": [
    "# Install SDK in CLIENT mode\n",
    "!uv pip install -U mostlyai\n",
    "# Or install in LOCAL mode\n",
    "!uv pip install -U 'mostlyai[local]'  \n",
    "# Note: Restart kernel session after installation!\n",
    "\n",
    "!uv pip install -q scikit-learn seaborn lightgbm sdv"
   ]
  },
  {
   "cell_type": "markdown",
   "metadata": {
    "application/vnd.databricks.v1+cell": {
     "cellMetadata": {},
     "inputWidgets": {},
     "nuid": "4d34158a-9d83-4fcc-9e76-910be946db5f",
     "showTitle": false,
     "tableResultSettingsMap": {},
     "title": ""
    },
    "id": "8FAyiL_6BCAb"
   },
   "source": [
    "# 1. Data Preparation\n",
    "\n",
    "## Loading the Dataset\n",
    "We'll use the US Census Income dataset with 10M records containing demographic, employment, and financial information - ideal for testing synthetic data generation at scale."
   ]
  },
  {
   "cell_type": "code",
   "execution_count": 2,
   "metadata": {
    "application/vnd.databricks.v1+cell": {
     "cellMetadata": {
      "byteLimit": 2048000,
      "rowLimit": 10000
     },
     "inputWidgets": {},
     "nuid": "05a4fab2-b3da-4895-8d1a-f9c345862ed1",
     "showTitle": false,
     "tableResultSettingsMap": {},
     "title": ""
    }
   },
   "outputs": [
    {
     "name": "stdout",
     "output_type": "stream",
     "text": [
      "Dataset shape: (1476217, 15)\n",
      "Memory usage: 43.7 MB\n"
     ]
    },
    {
     "data": {
      "text/html": [
       "<div>\n",
       "<style scoped>\n",
       "    .dataframe tbody tr th:only-of-type {\n",
       "        vertical-align: middle;\n",
       "    }\n",
       "\n",
       "    .dataframe tbody tr th {\n",
       "        vertical-align: top;\n",
       "    }\n",
       "\n",
       "    .dataframe thead th {\n",
       "        text-align: right;\n",
       "    }\n",
       "</style>\n",
       "<table border=\"1\" class=\"dataframe\">\n",
       "  <thead>\n",
       "    <tr style=\"text-align: right;\">\n",
       "      <th></th>\n",
       "      <th>State</th>\n",
       "      <th>Region</th>\n",
       "      <th>Division</th>\n",
       "      <th>Income</th>\n",
       "      <th>Age</th>\n",
       "      <th>Workclass</th>\n",
       "      <th>Education</th>\n",
       "      <th>Marital Status</th>\n",
       "      <th>Occupation</th>\n",
       "      <th>Place of birth</th>\n",
       "      <th>Gender</th>\n",
       "      <th>Race</th>\n",
       "      <th>Citizenship status</th>\n",
       "      <th>Self-care difficulty</th>\n",
       "      <th>Hearing difficulty</th>\n",
       "    </tr>\n",
       "  </thead>\n",
       "  <tbody>\n",
       "    <tr>\n",
       "      <th>0</th>\n",
       "      <td>Louisiana/LA</td>\n",
       "      <td>South</td>\n",
       "      <td>West South Central (South Region)</td>\n",
       "      <td>90000.0</td>\n",
       "      <td>55.0</td>\n",
       "      <td>Employee of a private for-profit company or bu...</td>\n",
       "      <td>1 or more years of college credit, no degree</td>\n",
       "      <td>Married</td>\n",
       "      <td>EXT-Underground Mining Machine Operators</td>\n",
       "      <td>Louisiana/LA</td>\n",
       "      <td>Male</td>\n",
       "      <td>Black or African American alone</td>\n",
       "      <td>Born in the U.S.</td>\n",
       "      <td>No</td>\n",
       "      <td>No</td>\n",
       "    </tr>\n",
       "    <tr>\n",
       "      <th>1</th>\n",
       "      <td>Arizona/AZ</td>\n",
       "      <td>West</td>\n",
       "      <td>Mountain (West region)</td>\n",
       "      <td>45000.0</td>\n",
       "      <td>24.0</td>\n",
       "      <td>Local government employee (city, county, etc.)</td>\n",
       "      <td>Some college, but less than 1 year</td>\n",
       "      <td>Never married or under 15 years old</td>\n",
       "      <td>RPR-Automotive Service Technicians And Mechanics</td>\n",
       "      <td>California/CA</td>\n",
       "      <td>Male</td>\n",
       "      <td>White alone</td>\n",
       "      <td>Born in the U.S.</td>\n",
       "      <td>No</td>\n",
       "      <td>No</td>\n",
       "    </tr>\n",
       "    <tr>\n",
       "      <th>2</th>\n",
       "      <td>New York/NY</td>\n",
       "      <td>Northeast</td>\n",
       "      <td>Middle Atlantic (Northeast region)</td>\n",
       "      <td>22600.0</td>\n",
       "      <td>30.0</td>\n",
       "      <td>Employee of a private for-profit company or bu...</td>\n",
       "      <td>Regular high school diploma</td>\n",
       "      <td>Never married or under 15 years old</td>\n",
       "      <td>OFF-Hotel, Motel, And Resort Desk Clerks</td>\n",
       "      <td>New York/NY</td>\n",
       "      <td>Female</td>\n",
       "      <td>Some Other Race alone</td>\n",
       "      <td>Born in the U.S.</td>\n",
       "      <td>No</td>\n",
       "      <td>No</td>\n",
       "    </tr>\n",
       "    <tr>\n",
       "      <th>3</th>\n",
       "      <td>Delaware/DE</td>\n",
       "      <td>South</td>\n",
       "      <td>South Atlantic (South region)</td>\n",
       "      <td>55000.0</td>\n",
       "      <td>23.0</td>\n",
       "      <td>Employee of a private for-profit company or bu...</td>\n",
       "      <td>Bachelor's degree</td>\n",
       "      <td>Never married or under 15 years old</td>\n",
       "      <td>OFF-First-Line Supervisors Of Office And Admin...</td>\n",
       "      <td>North Carolina/NC</td>\n",
       "      <td>Male</td>\n",
       "      <td>Black or African American alone</td>\n",
       "      <td>Born in the U.S.</td>\n",
       "      <td>No</td>\n",
       "      <td>No</td>\n",
       "    </tr>\n",
       "    <tr>\n",
       "      <th>4</th>\n",
       "      <td>New York/NY</td>\n",
       "      <td>Northeast</td>\n",
       "      <td>Middle Atlantic (Northeast region)</td>\n",
       "      <td>100000.0</td>\n",
       "      <td>52.0</td>\n",
       "      <td>Employee of a private for-profit company or bu...</td>\n",
       "      <td>Associate's degree</td>\n",
       "      <td>Married</td>\n",
       "      <td>CON-Electricians</td>\n",
       "      <td>New York/NY</td>\n",
       "      <td>Male</td>\n",
       "      <td>White alone</td>\n",
       "      <td>Born in the U.S.</td>\n",
       "      <td>No</td>\n",
       "      <td>No</td>\n",
       "    </tr>\n",
       "  </tbody>\n",
       "</table>\n",
       "</div>"
      ],
      "text/plain": [
       "          State     Region                            Division    Income  \\\n",
       "0  Louisiana/LA      South   West South Central (South Region)   90000.0   \n",
       "1    Arizona/AZ       West              Mountain (West region)   45000.0   \n",
       "2   New York/NY  Northeast  Middle Atlantic (Northeast region)   22600.0   \n",
       "3   Delaware/DE      South       South Atlantic (South region)   55000.0   \n",
       "4   New York/NY  Northeast  Middle Atlantic (Northeast region)  100000.0   \n",
       "\n",
       "    Age                                          Workclass  \\\n",
       "0  55.0  Employee of a private for-profit company or bu...   \n",
       "1  24.0     Local government employee (city, county, etc.)   \n",
       "2  30.0  Employee of a private for-profit company or bu...   \n",
       "3  23.0  Employee of a private for-profit company or bu...   \n",
       "4  52.0  Employee of a private for-profit company or bu...   \n",
       "\n",
       "                                      Education  \\\n",
       "0  1 or more years of college credit, no degree   \n",
       "1            Some college, but less than 1 year   \n",
       "2                   Regular high school diploma   \n",
       "3                             Bachelor's degree   \n",
       "4                            Associate's degree   \n",
       "\n",
       "                        Marital Status  \\\n",
       "0                              Married   \n",
       "1  Never married or under 15 years old   \n",
       "2  Never married or under 15 years old   \n",
       "3  Never married or under 15 years old   \n",
       "4                              Married   \n",
       "\n",
       "                                          Occupation     Place of birth  \\\n",
       "0           EXT-Underground Mining Machine Operators       Louisiana/LA   \n",
       "1   RPR-Automotive Service Technicians And Mechanics      California/CA   \n",
       "2           OFF-Hotel, Motel, And Resort Desk Clerks        New York/NY   \n",
       "3  OFF-First-Line Supervisors Of Office And Admin...  North Carolina/NC   \n",
       "4                                   CON-Electricians        New York/NY   \n",
       "\n",
       "   Gender                             Race Citizenship status  \\\n",
       "0    Male  Black or African American alone   Born in the U.S.   \n",
       "1    Male                      White alone   Born in the U.S.   \n",
       "2  Female            Some Other Race alone   Born in the U.S.   \n",
       "3    Male  Black or African American alone   Born in the U.S.   \n",
       "4    Male                      White alone   Born in the U.S.   \n",
       "\n",
       "  Self-care difficulty Hearing difficulty  \n",
       "0                   No                 No  \n",
       "1                   No                 No  \n",
       "2                   No                 No  \n",
       "3                   No                 No  \n",
       "4                   No                 No  "
      ]
     },
     "execution_count": 2,
     "metadata": {},
     "output_type": "execute_result"
    }
   ],
   "source": [
    "import pandas as pd\n",
    "\n",
    "# Load the ACS Income dataset (1.4M records) from remote Parquet file\n",
    "# Note: This is a large dataset - initial load may take a while\n",
    "data = pd.read_parquet(\n",
    "    \"https://github.com/mostly-ai/public-demo-data/raw/refs/heads/dev/census/acs-income-2018.parquet\"\n",
    ").iloc[:, :15]\n",
    "# drop unused categorical labels, so that SDV does not crash\n",
    "for col in data.select_dtypes([\"category\"]).columns:\n",
    "    data[col] = data[col].cat.remove_unused_categories()\n",
    "\n",
    "# Display basic info about the dataset\n",
    "print(f\"Dataset shape: {data.shape}\")\n",
    "print(f\"Memory usage: {data.memory_usage(deep=True).sum() / 1024**2:.1f} MB\")\n",
    "\n",
    "data.head()"
   ]
  },
  {
   "cell_type": "markdown",
   "metadata": {
    "application/vnd.databricks.v1+cell": {
     "cellMetadata": {
      "byteLimit": 2048000,
      "rowLimit": 10000
     },
     "inputWidgets": {},
     "nuid": "ef0e0f02-bc1d-4fc3-b484-b96d2a5962a4",
     "showTitle": false,
     "tableResultSettingsMap": {},
     "title": ""
    },
    "id": "DpCW_u-D3won"
   },
   "source": [
    "## Dataset Overview\n",
    "\n",
    "The dataset contains 15 columns with mixed data types. This combination of numerical and categorical data makes it ideal for testing both frameworks' capabilities."
   ]
  },
  {
   "cell_type": "code",
   "execution_count": 3,
   "metadata": {
    "application/vnd.databricks.v1+cell": {
     "cellMetadata": {
      "byteLimit": 2048000,
      "rowLimit": 10000
     },
     "inputWidgets": {},
     "nuid": "059a9dd0-694f-4967-994c-596e9911065a",
     "showTitle": false,
     "tableResultSettingsMap": {},
     "title": ""
    },
    "colab": {
     "base_uri": "https://localhost:8080/"
    },
    "id": "OUlVgIhZBdrF",
    "outputId": "89e00361-bb0a-4966-ecf3-65e9765ab620"
   },
   "outputs": [
    {
     "name": "stdout",
     "output_type": "stream",
     "text": [
      "\n",
      "Columns:\n",
      "State                   category\n",
      "Region                  category\n",
      "Division                category\n",
      "Income                   float64\n",
      "Age                      float64\n",
      "Workclass               category\n",
      "Education               category\n",
      "Marital Status          category\n",
      "Occupation              category\n",
      "Place of birth          category\n",
      "Gender                  category\n",
      "Race                    category\n",
      "Citizenship status      category\n",
      "Self-care difficulty    category\n",
      "Hearing difficulty      category\n",
      "dtype: object\n"
     ]
    }
   ],
   "source": [
    "# Display column names and basic data types\n",
    "print(\"\\nColumns:\")\n",
    "print(data.dtypes)"
   ]
  },
  {
   "cell_type": "markdown",
   "metadata": {},
   "source": [
    "## Train/Holdout Split\n",
    "\n",
    "We split the data into:\n",
    "- **Training Set (80% - 1.2M records)**: For model training\n",
    "- **Holdout Set (20% - 0.3M records)**: For quality evaluation\n",
    "\n",
    "This split ensures we can properly assess synthetic data quality against unseen real data."
   ]
  },
  {
   "cell_type": "code",
   "execution_count": 4,
   "metadata": {},
   "outputs": [
    {
     "name": "stdout",
     "output_type": "stream",
     "text": [
      "Training set: 1,180,973 records (80.0%)\n",
      "Holdout set:  295,244 records (20.0%)\n"
     ]
    }
   ],
   "source": [
    "from sklearn.model_selection import train_test_split\n",
    "\n",
    "# Split data into training/holdout sets\n",
    "# Using stratified split would be better for classification tasks, but not critical here\n",
    "# random_state=1 ensures reproducible results\n",
    "train, holdout = train_test_split(\n",
    "    data,\n",
    "    test_size=0.2,  # 20% for holdout evaluation\n",
    "    random_state=1,  # Fixed seed for reproducibility\n",
    "    shuffle=True,  # Ensure random sampling\n",
    ")\n",
    "\n",
    "print(f\"Training set: {train.shape[0]:,} records ({train.shape[0] / len(data) * 100:.1f}%)\")\n",
    "print(f\"Holdout set:  {holdout.shape[0]:,} records ({holdout.shape[0] / len(data) * 100:.1f}%)\")"
   ]
  },
  {
   "cell_type": "markdown",
   "metadata": {
    "application/vnd.databricks.v1+cell": {
     "cellMetadata": {
      "byteLimit": 2048000,
      "rowLimit": 10000
     },
     "inputWidgets": {},
     "nuid": "398f0aff-00d9-4773-a344-ee5d6f310104",
     "showTitle": false,
     "tableResultSettingsMap": {},
     "title": ""
    },
    "id": "v63wmyVvBmtE"
   },
   "source": [
    "# 2. SDV Metadata Configuration\n",
    "\n",
    "## Metadata Setup\n",
    "SDV requires metadata to understand your data structure. We'll use auto-detection to identify column types (numerical vs categorical), then validate the configuration."
   ]
  },
  {
   "cell_type": "markdown",
   "metadata": {
    "application/vnd.databricks.v1+cell": {
     "cellMetadata": {
      "byteLimit": 2048000,
      "rowLimit": 10000
     },
     "inputWidgets": {},
     "nuid": "b7f3bf12-edc2-4b32-85b5-4a53ab96121b",
     "showTitle": false,
     "tableResultSettingsMap": {},
     "title": ""
    },
    "id": "95rccasYBo0V"
   },
   "source": [
    "## Auto-Detecting Metadata\n",
    "SDV can automatically detect column types from the data. The auto-detection correctly identifies our numerical and categorical columns."
   ]
  },
  {
   "cell_type": "code",
   "execution_count": 5,
   "metadata": {
    "application/vnd.databricks.v1+cell": {
     "cellMetadata": {
      "byteLimit": 2048000,
      "rowLimit": 10000
     },
     "inputWidgets": {},
     "nuid": "0804b372-97e9-4f30-8c2c-855ad5d31f62",
     "showTitle": false,
     "tableResultSettingsMap": {},
     "title": ""
    }
   },
   "outputs": [
    {
     "name": "stdout",
     "output_type": "stream",
     "text": [
      "\n",
      "📊 Metadata Summary:\n",
      "Numerical columns (2): ['Income', 'Age']\n",
      "Categorical columns (12): ['Region', 'Division', 'Workclass', 'Education', 'Marital Status', 'Occupation', 'Place of birth', 'Gender', 'Race', 'Citizenship status', 'Self-care difficulty', 'Hearing difficulty']\n",
      "✅ Metadata validation passed\n",
      "✅ Data validation against metadata passed\n"
     ]
    }
   ],
   "source": [
    "from sdv.metadata import Metadata\n",
    "\n",
    "# Auto-detect metadata from the training data\n",
    "# Note: We wrap the DataFrame in a dict with table name 'table' as required by SDV\n",
    "# Using only training data to avoid data leakage\n",
    "metadata = Metadata.detect_from_dataframes({\"table\": train})\n",
    "\n",
    "# Show a summary of detected column types\n",
    "table_metadata = metadata.to_dict()[\"tables\"][\"table\"][\"columns\"]\n",
    "numerical_cols = [col for col, info in table_metadata.items() if info[\"sdtype\"] == \"numerical\"]\n",
    "categorical_cols = [col for col, info in table_metadata.items() if info[\"sdtype\"] == \"categorical\"]\n",
    "\n",
    "print(\"\\n📊 Metadata Summary:\")\n",
    "print(f\"Numerical columns ({len(numerical_cols)}): {numerical_cols}\")\n",
    "print(f\"Categorical columns ({len(categorical_cols)}): {categorical_cols}\")\n",
    "\n",
    "# Validate the metadata structure\n",
    "try:\n",
    "    metadata.validate()\n",
    "    print(\"✅ Metadata validation passed\")\n",
    "except Exception as e:\n",
    "    print(f\"❌ Metadata validation failed: {e}\")\n",
    "    # You would fix metadata issues here if any exist\n",
    "\n",
    "# Validate that the metadata matches the actual data structure\n",
    "try:\n",
    "    metadata.validate_data(data=({\"table\": train}))  # Use train data for consistency\n",
    "    print(\"✅ Data validation against metadata passed\")\n",
    "except Exception as e:\n",
    "    print(f\"❌ Data validation failed: {e}\")\n",
    "    # This would indicate mismatches between metadata and actual data"
   ]
  },
  {
   "cell_type": "markdown",
   "metadata": {
    "application/vnd.databricks.v1+cell": {
     "cellMetadata": {
      "byteLimit": 2048000,
      "rowLimit": 10000
     },
     "inputWidgets": {},
     "nuid": "dec289d7-4a7e-4f48-bf9c-2846f30aca5a",
     "showTitle": false,
     "tableResultSettingsMap": {},
     "title": ""
    },
    "id": "N9S6Kz0RCvph"
   },
   "source": [
    "# 3. SDV: Training and Generation\n",
    "\n",
    "## Gaussian Copula Synthesizer\n",
    "We'll use SDV's Gaussian Copula Synthesizer, which models the statistical relationships between variables and generates synthetic data that preserves these relationships."
   ]
  },
  {
   "cell_type": "code",
   "execution_count": 6,
   "metadata": {
    "application/vnd.databricks.v1+cell": {
     "cellMetadata": {
      "byteLimit": 2048000,
      "rowLimit": 10000
     },
     "inputWidgets": {},
     "nuid": "2779372e-d3c0-498f-af5a-ecb262a34831",
     "showTitle": false,
     "tableResultSettingsMap": {},
     "title": ""
    }
   },
   "outputs": [
    {
     "name": "stderr",
     "output_type": "stream",
     "text": [
      "/Users/kennethhamilton/Desktop/sdv-mostly-experiment/venv/lib/python3.10/site-packages/sdv/single_table/base.py:129: UserWarning:\n",
      "\n",
      "We strongly recommend saving the metadata using 'save_to_json' for replicability in future SDV versions.\n",
      "\n"
     ]
    },
    {
     "name": "stdout",
     "output_type": "stream",
     "text": [
      "🚀 Starting SDV training...\n",
      "Training on 1,180,973 records with 15 features\n",
      "✅ SDV training completed in 1.54 minutes\n"
     ]
    }
   ],
   "source": [
    "import time\n",
    "\n",
    "from sdv.single_table import GaussianCopulaSynthesizer\n",
    "\n",
    "# Initialize the synthesizer with our metadata\n",
    "# GaussianCopula is good for mixed data types and preserving correlations\n",
    "synthesizer = GaussianCopulaSynthesizer(metadata)\n",
    "\n",
    "print(\"🚀 Starting SDV training...\")\n",
    "print(f\"Training on {len(train):,} records with {len(train.columns)} features\")\n",
    "\n",
    "start_time = time.time()\n",
    "\n",
    "# Train the synthesizer on our training data\n",
    "# This learns the statistical relationships between variables\n",
    "synthesizer.fit(train)\n",
    "\n",
    "end_time = time.time()\n",
    "elapsed_minutes = (end_time - start_time) / 60\n",
    "\n",
    "print(f\"✅ SDV training completed in {elapsed_minutes:.2f} minutes\")"
   ]
  },
  {
   "cell_type": "code",
   "execution_count": 7,
   "metadata": {},
   "outputs": [
    {
     "name": "stdout",
     "output_type": "stream",
     "text": [
      "🎲 Starting SDV synthetic data generation...\n",
      "✅ SDV generation completed in 0.20 minutes\n",
      "⏱️  Generation rate: 120,129 records/second\n",
      "📊 Generated 1,476,217 synthetic records\n",
      "\n",
      "First 5 synthetic records:\n",
      "  State     Region                             Division   Income   Age  \\\n",
      "0   NaN  Northeast   Middle Atlantic (Northeast region)  53240.0  38.0   \n",
      "1   NaN       West  East North Central (Midwest region)  15979.0  42.0   \n",
      "2   NaN      South                Pacific (West region)  35126.0  32.0   \n",
      "3   NaN      South  East North Central (Midwest region)  88097.0  69.0   \n",
      "4   NaN       West                Pacific (West region)  24163.0  27.0   \n",
      "\n",
      "                                           Workclass  \\\n",
      "0     Local government employee (city, county, etc.)   \n",
      "1     Working without pay in family business or farm   \n",
      "2     Local government employee (city, county, etc.)   \n",
      "3  Self-employed in own incorporated business, pr...   \n",
      "4     Local government employee (city, county, etc.)   \n",
      "\n",
      "                       Education                       Marital Status  \\\n",
      "0             Associate's degree  Never married or under 15 years old   \n",
      "1              Bachelor's degree                            Separated   \n",
      "2  GED or alternative credential                            Separated   \n",
      "3                Master's degree  Never married or under 15 years old   \n",
      "4    Regular high school diploma  Never married or under 15 years old   \n",
      "\n",
      "                                    Occupation    Place of birth Gender  \\\n",
      "0          CLN-Maids And Housekeeping Cleaners  Massachusetts/MA   Male   \n",
      "1  CON-Plumbers, Pipefitters, And Steamfitters       Maryland/MD   Male   \n",
      "2                      CMM-Software Developers         Kansas/KS   Male   \n",
      "3                        MED-Registered Nurses         Hawaii/HI   Male   \n",
      "4              ENT-Artists And Related Workers       Colorado/CO   Male   \n",
      "\n",
      "          Race                                 Citizenship status  \\\n",
      "0  White alone  Born in Puerto Rico, Guam, the U.S. Virgin Isl...   \n",
      "1  White alone                     U.S. citizen by naturalization   \n",
      "2  White alone                     U.S. citizen by naturalization   \n",
      "3  White alone                     U.S. citizen by naturalization   \n",
      "4  White alone                     U.S. citizen by naturalization   \n",
      "\n",
      "  Self-care difficulty Hearing difficulty  \n",
      "0                   No                 No  \n",
      "1                   No                 No  \n",
      "2                   No                 No  \n",
      "3                   No                 No  \n",
      "4                   No                 No  \n"
     ]
    }
   ],
   "source": [
    "print(\"🎲 Starting SDV synthetic data generation...\")\n",
    "\n",
    "start_time = time.time()\n",
    "\n",
    "# Generate synthetic data with the same number of rows as original dataset\n",
    "# You can adjust num_rows based on your needs\n",
    "target_rows = len(data)  # Generate same size as original\n",
    "sdv_synthetic_data = synthesizer.sample(num_rows=target_rows)\n",
    "\n",
    "end_time = time.time()\n",
    "elapsed_minutes = (end_time - start_time) / 60\n",
    "\n",
    "print(f\"✅ SDV generation completed in {elapsed_minutes:.2f} minutes\")\n",
    "print(f\"⏱️  Generation rate: {target_rows / (end_time - start_time):,.0f} records/second\")\n",
    "print(f\"📊 Generated {len(sdv_synthetic_data):,} synthetic records\")\n",
    "\n",
    "# Quick preview of generated data\n",
    "print(\"\\nFirst 5 synthetic records:\")\n",
    "print(sdv_synthetic_data.head())"
   ]
  },
  {
   "cell_type": "code",
   "execution_count": 8,
   "metadata": {
    "application/vnd.databricks.v1+cell": {
     "cellMetadata": {
      "byteLimit": 2048000,
      "rowLimit": 10000
     },
     "inputWidgets": {},
     "nuid": "443b80fc-a7ff-45fd-bc4b-88b782cc8693",
     "showTitle": false,
     "tableResultSettingsMap": {},
     "title": ""
    }
   },
   "outputs": [
    {
     "name": "stdout",
     "output_type": "stream",
     "text": [
      "💾 SDV synthetic data saved to: ./data/sdv_synthetic_data.parquet\n",
      "📁 File size: 15.2 MB\n"
     ]
    }
   ],
   "source": [
    "import os\n",
    "\n",
    "# Save SDV synthetic data\n",
    "output_file = \"./data/sdv_synthetic_data.parquet\"\n",
    "sdv_synthetic_data.to_parquet(output_file, index=False)\n",
    "\n",
    "# Get file size in MB\n",
    "file_size_mb = os.path.getsize(output_file) / 1024**2\n",
    "\n",
    "print(f\"💾 SDV synthetic data saved to: {output_file}\")\n",
    "print(f\"📁 File size: {file_size_mb:.1f} MB\")"
   ]
  },
  {
   "cell_type": "markdown",
   "metadata": {},
   "source": [
    "# 4. Mostly AI: Training and Generation\n",
    "\n",
    "## Deep Learning Approach\n",
    "Mostly AI uses advanced deep learning models optimized for tabular data. The SDK provides local training capabilities with configurable parameters for training time and privacy settings."
   ]
  },
  {
   "cell_type": "code",
   "execution_count": 9,
   "metadata": {
    "application/vnd.databricks.v1+cell": {
     "cellMetadata": {
      "byteLimit": 2048000,
      "rowLimit": 10000
     },
     "inputWidgets": {},
     "nuid": "74465b4f-99f4-4f55-9e6d-0837ef583c5a",
     "showTitle": false,
     "tableResultSettingsMap": {},
     "title": ""
    }
   },
   "outputs": [
    {
     "name": "stdout",
     "output_type": "stream",
     "text": [
      "🔧 Initializing Mostly AI SDK...\n"
     ]
    },
    {
     "data": {
      "text/html": [
       "<pre style=\"white-space:pre;overflow-x:auto;line-height:normal;font-family:Menlo,'DejaVu Sans Mono',consolas,'Courier New',monospace\">Initializing <span style=\"font-weight: bold\">Synthetic Data SDK</span> <span style=\"color: #008080; text-decoration-color: #008080; font-weight: bold\">4.9</span>.<span style=\"color: #008080; text-decoration-color: #008080; font-weight: bold\">0</span> in <span style=\"font-weight: bold\">LOCAL mode</span> 🏠\n",
       "</pre>\n"
      ],
      "text/plain": [
       "Initializing \u001b[1mSynthetic Data SDK\u001b[0m \u001b[1;36m4.9\u001b[0m.\u001b[1;36m0\u001b[0m in \u001b[1mLOCAL mode\u001b[0m 🏠\n"
      ]
     },
     "metadata": {},
     "output_type": "display_data"
    },
    {
     "data": {
      "text/html": [
       "<pre style=\"white-space:pre;overflow-x:auto;line-height:normal;font-family:Menlo,'DejaVu Sans Mono',consolas,'Courier New',monospace\">Connected to <a href=\"file:///Users/kennethhamilton/mostlyai\" target=\"_blank\"><span style=\"color: #005fff; text-decoration-color: #005fff; text-decoration: underline\">/Users/kennethhamilton/mostlyai</span></a> with <span style=\"color: #008080; text-decoration-color: #008080; font-weight: bold\">32</span> GB RAM, <span style=\"color: #008080; text-decoration-color: #008080; font-weight: bold\">10</span> CPUs, <span style=\"color: #008080; text-decoration-color: #008080; font-weight: bold\">0</span> GPUs available\n",
       "</pre>\n"
      ],
      "text/plain": [
       "Connected to \u001b]8;id=802209;file:///Users/kennethhamilton/mostlyai\u001b\\\u001b[4;38;5;27m/Users/kennethhamilton/\u001b[0m\u001b]8;;\u001b\\\u001b]8;id=726078;file:///Users/kennethhamilton/mostlyai\u001b\\\u001b[4;38;5;27mmostlyai\u001b[0m\u001b]8;;\u001b\\ with \u001b[1;36m32\u001b[0m GB RAM, \u001b[1;36m10\u001b[0m CPUs, \u001b[1;36m0\u001b[0m GPUs available\n"
      ]
     },
     "metadata": {},
     "output_type": "display_data"
    },
    {
     "name": "stdout",
     "output_type": "stream",
     "text": [
      "✅ Mostly AI SDK initialized successfully\n"
     ]
    }
   ],
   "source": [
    "from mostlyai.sdk import MostlyAI\n",
    "\n",
    "# Initialize Mostly AI SDK for local training\n",
    "# local=True means we'll train models locally rather than using cloud API\n",
    "print(\"🔧 Initializing Mostly AI SDK...\")\n",
    "mostly = MostlyAI(local=True)\n",
    "print(\"✅ Mostly AI SDK initialized successfully\")"
   ]
  },
  {
   "cell_type": "code",
   "execution_count": 10,
   "metadata": {
    "application/vnd.databricks.v1+cell": {
     "cellMetadata": {
      "byteLimit": 2048000,
      "rowLimit": 10000
     },
     "inputWidgets": {},
     "nuid": "850d199c-0ed6-4c9f-a6d2-c96d37c86cb1",
     "showTitle": false,
     "tableResultSettingsMap": {},
     "title": ""
    }
   },
   "outputs": [
    {
     "name": "stdout",
     "output_type": "stream",
     "text": [
      "🚀 Starting Mostly AI training...\n",
      "Training on 1,180,973 records with 15 features\n"
     ]
    },
    {
     "data": {
      "text/html": [
       "<pre style=\"white-space:pre;overflow-x:auto;line-height:normal;font-family:Menlo,'DejaVu Sans Mono',consolas,'Courier New',monospace\">Created generator <span style=\"color: #005fff; text-decoration-color: #005fff\">84e23dc7-5404-415d-ba26-4ae274e52819</span>\n",
       "</pre>\n"
      ],
      "text/plain": [
       "Created generator \u001b[38;5;27m84e23dc7-5404-415d-ba26-4ae274e52819\u001b[0m\n"
      ]
     },
     "metadata": {},
     "output_type": "display_data"
    },
    {
     "data": {
      "text/html": [
       "<pre style=\"white-space:pre;overflow-x:auto;line-height:normal;font-family:Menlo,'DejaVu Sans Mono',consolas,'Courier New',monospace\">Started generator training\n",
       "</pre>\n"
      ],
      "text/plain": [
       "Started generator training\n"
      ]
     },
     "metadata": {},
     "output_type": "display_data"
    },
    {
     "data": {
      "application/vnd.jupyter.widget-view+json": {
       "model_id": "dcb11521c1c44b80ae81377a177f585f",
       "version_major": 2,
       "version_minor": 0
      },
      "text/plain": [
       "Output()"
      ]
     },
     "metadata": {},
     "output_type": "display_data"
    },
    {
     "data": {
      "text/html": [
       "<pre style=\"white-space:pre;overflow-x:auto;line-height:normal;font-family:Menlo,'DejaVu Sans Mono',consolas,'Courier New',monospace\"></pre>\n"
      ],
      "text/plain": []
     },
     "metadata": {},
     "output_type": "display_data"
    },
    {
     "data": {
      "text/html": [
       "<pre style=\"white-space:pre;overflow-x:auto;line-height:normal;font-family:Menlo,'DejaVu Sans Mono',consolas,'Courier New',monospace\">🎉 <span style=\"color: #008000; text-decoration-color: #008000; font-weight: bold\">Your generator is ready!</span> Use it to create synthetic data. Publish it so others can do the same.\n",
       "</pre>\n"
      ],
      "text/plain": [
       "🎉 \u001b[1;32mYour generator is ready!\u001b[0m Use it to create synthetic data. Publish it so others can do the same.\n"
      ]
     },
     "metadata": {},
     "output_type": "display_data"
    },
    {
     "name": "stdout",
     "output_type": "stream",
     "text": [
      "✅ Mostly AI training completed in 10.83 minutes\n"
     ]
    }
   ],
   "source": [
    "print(\"🚀 Starting Mostly AI training...\")\n",
    "print(f\"Training on {len(train):,} records with {len(train.columns)} features\")\n",
    "\n",
    "start_time = time.time()\n",
    "\n",
    "# Configure and start training\n",
    "# Mostly AI automatically detects column types and optimizes model architecture\n",
    "g = mostly.train(\n",
    "    config={\n",
    "        \"name\": \"ACS Income\",\n",
    "        \"tables\": [\n",
    "            {\n",
    "                \"name\": \"census\",\n",
    "                \"data\": train,\n",
    "                \"tabularModelConfiguration\": {\n",
    "                    \"max_training_time\": 10,  # Limit training time (minutes)\n",
    "                    \"enable_model_report\": False,  # We do QA separate\n",
    "                },\n",
    "            }\n",
    "        ],\n",
    "    },\n",
    ")\n",
    "\n",
    "end_time = time.time()\n",
    "elapsed_minutes = (end_time - start_time) / 60\n",
    "\n",
    "print(f\"✅ Mostly AI training completed in {elapsed_minutes:.2f} minutes\")"
   ]
  },
  {
   "cell_type": "code",
   "execution_count": 11,
   "metadata": {},
   "outputs": [
    {
     "name": "stdout",
     "output_type": "stream",
     "text": [
      "🎲 Starting Mostly AI synthetic data generation...\n"
     ]
    },
    {
     "data": {
      "text/html": [
       "<pre style=\"white-space:pre;overflow-x:auto;line-height:normal;font-family:Menlo,'DejaVu Sans Mono',consolas,'Courier New',monospace\">Created synthetic dataset <span style=\"color: #005fff; text-decoration-color: #005fff\">f08c1754-8924-47e0-ab00-cc0ba74c7a7b</span> with generator <span style=\"color: #005fff; text-decoration-color: #005fff\">84e23dc7-5404-415d-ba26-4ae274e52819</span>\n",
       "</pre>\n"
      ],
      "text/plain": [
       "Created synthetic dataset \u001b[38;5;27mf08c1754-8924-47e0-ab00-cc0ba74c7a7b\u001b[0m with generator \u001b[38;5;27m84e23dc7-5404-415d-ba26-4ae274e52819\u001b[0m\n"
      ]
     },
     "metadata": {},
     "output_type": "display_data"
    },
    {
     "data": {
      "text/html": [
       "<pre style=\"white-space:pre;overflow-x:auto;line-height:normal;font-family:Menlo,'DejaVu Sans Mono',consolas,'Courier New',monospace\">Started synthetic dataset generation\n",
       "</pre>\n"
      ],
      "text/plain": [
       "Started synthetic dataset generation\n"
      ]
     },
     "metadata": {},
     "output_type": "display_data"
    },
    {
     "data": {
      "application/vnd.jupyter.widget-view+json": {
       "model_id": "2db46028f0344bfbaf9e756dbf818486",
       "version_major": 2,
       "version_minor": 0
      },
      "text/plain": [
       "Output()"
      ]
     },
     "metadata": {},
     "output_type": "display_data"
    },
    {
     "data": {
      "text/html": [
       "<pre style=\"white-space:pre;overflow-x:auto;line-height:normal;font-family:Menlo,'DejaVu Sans Mono',consolas,'Courier New',monospace\"></pre>\n"
      ],
      "text/plain": []
     },
     "metadata": {},
     "output_type": "display_data"
    },
    {
     "data": {
      "text/html": [
       "<pre style=\"white-space:pre;overflow-x:auto;line-height:normal;font-family:Menlo,'DejaVu Sans Mono',consolas,'Courier New',monospace\">🎉 <span style=\"color: #008000; text-decoration-color: #008000; font-weight: bold\">Your synthetic dataset is ready!</span> Use it to consume the generated data. Publish it so others can do the same.\n",
       "</pre>\n"
      ],
      "text/plain": [
       "🎉 \u001b[1;32mYour synthetic dataset is ready!\u001b[0m Use it to consume the generated data. Publish it so others can do the same.\n"
      ]
     },
     "metadata": {},
     "output_type": "display_data"
    },
    {
     "name": "stdout",
     "output_type": "stream",
     "text": [
      "✅ Mostly AI generation completed in 0.74 minutes\n",
      "⏱️ Generation rate: 33,425 records/second\n",
      "📊 Generated 1,476,217 synthetic records\n",
      "\n",
      "First 5 synthetic records:\n"
     ]
    },
    {
     "data": {
      "text/html": [
       "<div>\n",
       "<style scoped>\n",
       "    .dataframe tbody tr th:only-of-type {\n",
       "        vertical-align: middle;\n",
       "    }\n",
       "\n",
       "    .dataframe tbody tr th {\n",
       "        vertical-align: top;\n",
       "    }\n",
       "\n",
       "    .dataframe thead th {\n",
       "        text-align: right;\n",
       "    }\n",
       "</style>\n",
       "<table border=\"1\" class=\"dataframe\">\n",
       "  <thead>\n",
       "    <tr style=\"text-align: right;\">\n",
       "      <th></th>\n",
       "      <th>State</th>\n",
       "      <th>Region</th>\n",
       "      <th>Division</th>\n",
       "      <th>Income</th>\n",
       "      <th>Age</th>\n",
       "      <th>Workclass</th>\n",
       "      <th>Education</th>\n",
       "      <th>Marital Status</th>\n",
       "      <th>Occupation</th>\n",
       "      <th>Place of birth</th>\n",
       "      <th>Gender</th>\n",
       "      <th>Race</th>\n",
       "      <th>Citizenship status</th>\n",
       "      <th>Self-care difficulty</th>\n",
       "      <th>Hearing difficulty</th>\n",
       "    </tr>\n",
       "  </thead>\n",
       "  <tbody>\n",
       "    <tr>\n",
       "      <th>0</th>\n",
       "      <td>Pennsylvania/PA</td>\n",
       "      <td>Northeast</td>\n",
       "      <td>Middle Atlantic (Northeast region)</td>\n",
       "      <td>24652</td>\n",
       "      <td>58</td>\n",
       "      <td>Employee of a private for-profit company or bu...</td>\n",
       "      <td>Regular high school diploma</td>\n",
       "      <td>Widowed</td>\n",
       "      <td>PRD-Miscellaneous Production Workers, Includin...</td>\n",
       "      <td>Illinois/IL</td>\n",
       "      <td>Male</td>\n",
       "      <td>White alone</td>\n",
       "      <td>Born in the U.S.</td>\n",
       "      <td>No</td>\n",
       "      <td>No</td>\n",
       "    </tr>\n",
       "    <tr>\n",
       "      <th>1</th>\n",
       "      <td>Pennsylvania/PA</td>\n",
       "      <td>Northeast</td>\n",
       "      <td>Middle Atlantic (Northeast region)</td>\n",
       "      <td>42386</td>\n",
       "      <td>32</td>\n",
       "      <td>Employee of a private for-profit company or bu...</td>\n",
       "      <td>Regular high school diploma</td>\n",
       "      <td>Married</td>\n",
       "      <td>PRD-First-Line Supervisors Of Production And O...</td>\n",
       "      <td>Pennsylvania/PA</td>\n",
       "      <td>Female</td>\n",
       "      <td>White alone</td>\n",
       "      <td>Born in the U.S.</td>\n",
       "      <td>No</td>\n",
       "      <td>No</td>\n",
       "    </tr>\n",
       "    <tr>\n",
       "      <th>2</th>\n",
       "      <td>California/CA</td>\n",
       "      <td>West</td>\n",
       "      <td>Pacific (West region)</td>\n",
       "      <td>174233</td>\n",
       "      <td>52</td>\n",
       "      <td>Employee of a private for-profit company or bu...</td>\n",
       "      <td>Bachelor's degree</td>\n",
       "      <td>Married</td>\n",
       "      <td>BUS-Management Analysts</td>\n",
       "      <td>Philippines</td>\n",
       "      <td>Male</td>\n",
       "      <td>Asian alone</td>\n",
       "      <td>U.S. citizen by naturalization</td>\n",
       "      <td>No</td>\n",
       "      <td>No</td>\n",
       "    </tr>\n",
       "    <tr>\n",
       "      <th>3</th>\n",
       "      <td>New York/NY</td>\n",
       "      <td>Northeast</td>\n",
       "      <td>Middle Atlantic (Northeast region)</td>\n",
       "      <td>97392</td>\n",
       "      <td>43</td>\n",
       "      <td>Self-employed in own incorporated business, pr...</td>\n",
       "      <td>Bachelor's degree</td>\n",
       "      <td>Married</td>\n",
       "      <td>OFF-Bookkeeping, Accounting, And Auditing Clerks</td>\n",
       "      <td>New York/NY</td>\n",
       "      <td>Female</td>\n",
       "      <td>White alone</td>\n",
       "      <td>Born in the U.S.</td>\n",
       "      <td>No</td>\n",
       "      <td>No</td>\n",
       "    </tr>\n",
       "    <tr>\n",
       "      <th>4</th>\n",
       "      <td>California/CA</td>\n",
       "      <td>West</td>\n",
       "      <td>Pacific (West region)</td>\n",
       "      <td>100764</td>\n",
       "      <td>53</td>\n",
       "      <td>Employee of a private for-profit company or bu...</td>\n",
       "      <td>Bachelor's degree</td>\n",
       "      <td>Married</td>\n",
       "      <td>ENG-Chemical Engineers</td>\n",
       "      <td>California/CA</td>\n",
       "      <td>Female</td>\n",
       "      <td>Two or More Races</td>\n",
       "      <td>Born in the U.S.</td>\n",
       "      <td>No</td>\n",
       "      <td>No</td>\n",
       "    </tr>\n",
       "  </tbody>\n",
       "</table>\n",
       "</div>"
      ],
      "text/plain": [
       "             State     Region                            Division  Income  \\\n",
       "0  Pennsylvania/PA  Northeast  Middle Atlantic (Northeast region)   24652   \n",
       "1  Pennsylvania/PA  Northeast  Middle Atlantic (Northeast region)   42386   \n",
       "2    California/CA       West               Pacific (West region)  174233   \n",
       "3      New York/NY  Northeast  Middle Atlantic (Northeast region)   97392   \n",
       "4    California/CA       West               Pacific (West region)  100764   \n",
       "\n",
       "   Age                                          Workclass  \\\n",
       "0   58  Employee of a private for-profit company or bu...   \n",
       "1   32  Employee of a private for-profit company or bu...   \n",
       "2   52  Employee of a private for-profit company or bu...   \n",
       "3   43  Self-employed in own incorporated business, pr...   \n",
       "4   53  Employee of a private for-profit company or bu...   \n",
       "\n",
       "                     Education Marital Status  \\\n",
       "0  Regular high school diploma        Widowed   \n",
       "1  Regular high school diploma        Married   \n",
       "2            Bachelor's degree        Married   \n",
       "3            Bachelor's degree        Married   \n",
       "4            Bachelor's degree        Married   \n",
       "\n",
       "                                          Occupation   Place of birth  Gender  \\\n",
       "0  PRD-Miscellaneous Production Workers, Includin...      Illinois/IL    Male   \n",
       "1  PRD-First-Line Supervisors Of Production And O...  Pennsylvania/PA  Female   \n",
       "2                            BUS-Management Analysts      Philippines    Male   \n",
       "3   OFF-Bookkeeping, Accounting, And Auditing Clerks      New York/NY  Female   \n",
       "4                             ENG-Chemical Engineers    California/CA  Female   \n",
       "\n",
       "                Race              Citizenship status Self-care difficulty  \\\n",
       "0        White alone                Born in the U.S.                   No   \n",
       "1        White alone                Born in the U.S.                   No   \n",
       "2        Asian alone  U.S. citizen by naturalization                   No   \n",
       "3        White alone                Born in the U.S.                   No   \n",
       "4  Two or More Races                Born in the U.S.                   No   \n",
       "\n",
       "  Hearing difficulty  \n",
       "0                 No  \n",
       "1                 No  \n",
       "2                 No  \n",
       "3                 No  \n",
       "4                 No  "
      ]
     },
     "execution_count": 11,
     "metadata": {},
     "output_type": "execute_result"
    }
   ],
   "source": [
    "print(\"🎲 Starting Mostly AI synthetic data generation...\")\n",
    "\n",
    "start_time = time.time()\n",
    "\n",
    "# Generate synthetic data using the trained generator\n",
    "# size parameter controls how many records to generate\n",
    "target_rows = len(data)\n",
    "sd = mostly.generate(g, size=target_rows)\n",
    "mostlyai_synthetic_data = sd.data()\n",
    "\n",
    "end_time = time.time()\n",
    "elapsed_minutes = (end_time - start_time) / 60\n",
    "\n",
    "print(f\"✅ Mostly AI generation completed in {elapsed_minutes:.2f} minutes\")\n",
    "print(f\"⏱️ Generation rate: {target_rows / (end_time - start_time):,.0f} records/second\")\n",
    "print(f\"📊 Generated {len(mostlyai_synthetic_data):,} synthetic records\")\n",
    "\n",
    "# Quick preview of generated data\n",
    "print(\"\\nFirst 5 synthetic records:\")\n",
    "mostlyai_synthetic_data.head()"
   ]
  },
  {
   "cell_type": "code",
   "execution_count": 12,
   "metadata": {},
   "outputs": [
    {
     "name": "stdout",
     "output_type": "stream",
     "text": [
      "💾 MOSTLY AI synthetic data saved to: ./data/mostlyai_synthetic_data.parquet\n",
      "📁 File size: 15.5 MB\n"
     ]
    }
   ],
   "source": [
    "# Save Mostly AI synthetic data for comparison\n",
    "output_file = \"./data/mostlyai_synthetic_data.parquet\"\n",
    "mostlyai_synthetic_data.to_parquet(output_file, index=False)\n",
    "file_size_bytes = os.path.getsize(output_file)\n",
    "print(f\"💾 MOSTLY AI synthetic data saved to: {output_file}\")\n",
    "print(f\"📁 File size: {file_size_bytes / 1024**2:.1f} MB\")"
   ]
  },
  {
   "cell_type": "markdown",
   "metadata": {},
   "source": [
    "# 5. Quality Assessment and Comparison\n",
    "\n",
    "## Evaluation Framework\n",
    "We'll use MOSTLY AI's comprehensive [Synthetic Data Quality Assurance](https://github.com/mostly-ai/mostlyai-qa) framework to evaluate both synthetic datasets. The assessment includes:\n",
    "\n",
    "- **Accuracy Metrics**: How well synthetic data preserves statistical distributions (univariate, bivariate, trivariate)\n",
    "- **Similarity Analysis**: Comparison between training, holdout, and synthetic data\n",
    "- **DCR Privacy Metrics**: Distance to Closest Record analysis for privacy assessment\n",
    "- **Overall Quality Score**: Combined metric for synthetic data fidelity\n",
    "\n",
    "### Key Privacy Metrics:\n",
    "- **DCR Share**: Proportion of synthetic records that are closer to holdout than training data (higher = better privacy)\n",
    "- **DCR Training**: Average distance from synthetic to closest training record (higher = better privacy)\n",
    "- **Optimal DCR Share**: ~0.5 indicates good balance between utility and privacy\n",
    "\n",
    "Let's compare the results from both frameworks:"
   ]
  },
  {
   "cell_type": "code",
   "execution_count": 13,
   "metadata": {},
   "outputs": [
    {
     "name": "stdout",
     "output_type": "stream",
     "text": [
      "🔍 Quality assessment framework initialized\n"
     ]
    }
   ],
   "source": [
    "# Import and initialize the quality assessment framework\n",
    "from mostlyai import qa\n",
    "\n",
    "# Initialize logging to see detailed evaluation progress\n",
    "qa.init_logging()\n",
    "print(\"🔍 Quality assessment framework initialized\")"
   ]
  },
  {
   "cell_type": "code",
   "execution_count": 14,
   "metadata": {
    "application/vnd.databricks.v1+cell": {
     "cellMetadata": {
      "byteLimit": 2048000,
      "rowLimit": 10000
     },
     "inputWidgets": {},
     "nuid": "d638406c-f4e5-4e80-917d-79bc88305ecc",
     "showTitle": false,
     "tableResultSettingsMap": {},
     "title": ""
    }
   },
   "outputs": [
    {
     "name": "stdout",
     "output_type": "stream",
     "text": [
      "📊 Evaluating SDV synthetic data quality...\n",
      "[2025-07-14 08:35:26,218] INFO   : prepared training data for accuracy: (1180973, 15)\n",
      "[2025-07-14 08:35:26,622] INFO   : prepared holdout data for accuracy: (295244, 15)\n",
      "[2025-07-14 08:35:28,499] INFO   : prepared synthetic data for accuracy: (1476217, 15)\n",
      "[2025-07-14 08:35:28,539] INFO   : encode datasets for embeddings\n"
     ]
    },
    {
     "name": "stderr",
     "output_type": "stream",
     "text": [
      "/Users/kennethhamilton/Desktop/sdv-mostly-experiment/venv/lib/python3.10/site-packages/sklearn/utils/extmath.py:350: RuntimeWarning:\n",
      "\n",
      "divide by zero encountered in matmul\n",
      "\n",
      "/Users/kennethhamilton/Desktop/sdv-mostly-experiment/venv/lib/python3.10/site-packages/sklearn/utils/extmath.py:350: RuntimeWarning:\n",
      "\n",
      "overflow encountered in matmul\n",
      "\n",
      "/Users/kennethhamilton/Desktop/sdv-mostly-experiment/venv/lib/python3.10/site-packages/sklearn/utils/extmath.py:350: RuntimeWarning:\n",
      "\n",
      "invalid value encountered in matmul\n",
      "\n",
      "/Users/kennethhamilton/Desktop/sdv-mostly-experiment/venv/lib/python3.10/site-packages/sklearn/utils/extmath.py:351: RuntimeWarning:\n",
      "\n",
      "divide by zero encountered in matmul\n",
      "\n",
      "/Users/kennethhamilton/Desktop/sdv-mostly-experiment/venv/lib/python3.10/site-packages/sklearn/utils/extmath.py:351: RuntimeWarning:\n",
      "\n",
      "overflow encountered in matmul\n",
      "\n",
      "/Users/kennethhamilton/Desktop/sdv-mostly-experiment/venv/lib/python3.10/site-packages/sklearn/utils/extmath.py:351: RuntimeWarning:\n",
      "\n",
      "invalid value encountered in matmul\n",
      "\n",
      "/Users/kennethhamilton/Desktop/sdv-mostly-experiment/venv/lib/python3.10/site-packages/sklearn/utils/extmath.py:355: RuntimeWarning:\n",
      "\n",
      "divide by zero encountered in matmul\n",
      "\n",
      "/Users/kennethhamilton/Desktop/sdv-mostly-experiment/venv/lib/python3.10/site-packages/sklearn/utils/extmath.py:355: RuntimeWarning:\n",
      "\n",
      "overflow encountered in matmul\n",
      "\n",
      "/Users/kennethhamilton/Desktop/sdv-mostly-experiment/venv/lib/python3.10/site-packages/sklearn/utils/extmath.py:355: RuntimeWarning:\n",
      "\n",
      "invalid value encountered in matmul\n",
      "\n",
      "/Users/kennethhamilton/Desktop/sdv-mostly-experiment/venv/lib/python3.10/site-packages/sklearn/utils/extmath.py:577: RuntimeWarning:\n",
      "\n",
      "divide by zero encountered in matmul\n",
      "\n",
      "/Users/kennethhamilton/Desktop/sdv-mostly-experiment/venv/lib/python3.10/site-packages/sklearn/utils/extmath.py:577: RuntimeWarning:\n",
      "\n",
      "overflow encountered in matmul\n",
      "\n",
      "/Users/kennethhamilton/Desktop/sdv-mostly-experiment/venv/lib/python3.10/site-packages/sklearn/utils/extmath.py:577: RuntimeWarning:\n",
      "\n",
      "invalid value encountered in matmul\n",
      "\n",
      "/Users/kennethhamilton/Desktop/sdv-mostly-experiment/venv/lib/python3.10/site-packages/sklearn/utils/extmath.py:590: RuntimeWarning:\n",
      "\n",
      "divide by zero encountered in matmul\n",
      "\n",
      "/Users/kennethhamilton/Desktop/sdv-mostly-experiment/venv/lib/python3.10/site-packages/sklearn/utils/extmath.py:590: RuntimeWarning:\n",
      "\n",
      "overflow encountered in matmul\n",
      "\n",
      "/Users/kennethhamilton/Desktop/sdv-mostly-experiment/venv/lib/python3.10/site-packages/sklearn/utils/extmath.py:590: RuntimeWarning:\n",
      "\n",
      "invalid value encountered in matmul\n",
      "\n"
     ]
    },
    {
     "name": "stdout",
     "output_type": "stream",
     "text": [
      "[2025-07-14 08:35:29,356] INFO   : calculated embeddings: syn=(10000, 34), trn=(10000, 34), hol=(10000, 34)\n",
      "[2025-07-14 08:35:29,356] INFO   : report accuracy and correlations\n",
      "[2025-07-14 08:35:29,356] INFO   : calculate original data bins\n",
      "[2025-07-14 08:35:31,124] INFO   : store original data bins\n",
      "[2025-07-14 08:35:31,138] INFO   : calculate synthetic data bins\n",
      "[2025-07-14 08:35:32,624] INFO   : calculate correlations\n",
      "[2025-07-14 08:35:34,613] INFO   : calculate correlations\n",
      "[2025-07-14 08:35:36,625] INFO   : calculated univariates for 15 columns in 0.91 seconds\n",
      "[2025-07-14 08:35:38,665] INFO   : calculated bivariate accuracies for 210 combinations in 2.04 seconds\n",
      "[2025-07-14 08:35:49,867] INFO   : calculated trivariate accuracies for 455 combinations in 11.20 seconds\n",
      "[2025-07-14 08:35:50,028] INFO   : calculate numeric univariate kdes\n",
      "[2025-07-14 08:35:51,018] INFO   : calculate numeric univariate kdes\n",
      "[2025-07-14 08:35:51,960] INFO   : calculate categorical univariate counts\n",
      "[2025-07-14 08:35:52,382] INFO   : calculate categorical univariate counts\n",
      "[2025-07-14 08:35:53,095] INFO   : calculated univariate bin counts for 15 columns in 0.24 seconds\n",
      "[2025-07-14 08:35:54,280] INFO   : calculated bivariate bin counts for 210 combinations in 1.18 seconds\n",
      "[2025-07-14 08:35:54,540] INFO   : calculated univariate bin counts for 15 columns in 0.24 seconds\n",
      "[2025-07-14 08:35:55,681] INFO   : calculated bivariate bin counts for 210 combinations in 1.14 seconds\n",
      "[2025-07-14 08:35:55,682] INFO   : plot univariates\n",
      "[2025-07-14 08:35:55,803] INFO   : plot bivariates\n",
      "[2025-07-14 08:35:56,237] INFO   : report similarity\n",
      "[2025-07-14 08:35:56,238] INFO   : calculate centroid similarities\n",
      "[2025-07-14 08:35:56,243] INFO   : calculated cosine similarity for trn and hol: 0.9998619\n",
      "[2025-07-14 08:35:56,243] INFO   : calculated cosine similarity for trn and syn: 0.8679346\n",
      "[2025-07-14 08:35:56,244] INFO   : calculate discriminator AUC\n",
      "[2025-07-14 08:35:57,210] INFO   : auc_scores=[0.4912, 0.5008, 0.4801, 0.4833, 0.4974, 0.4819, 0.4905, 0.508, 0.5187, 0.5051]\n",
      "[2025-07-14 08:35:57,211] INFO   : calculated AUC for trn and hol: 49.6% in 0.97 seconds\n",
      "[2025-07-14 08:36:00,142] INFO   : auc_scores=[1.0, 1.0, 1.0, 1.0, 1.0, 1.0, 1.0, 1.0, 1.0, 1.0]\n",
      "[2025-07-14 08:36:00,143] INFO   : calculated AUC for trn and syn: 100.0% in 2.93 seconds\n",
      "[2025-07-14 08:36:00,143] INFO   : plot and store PCA similarity contours\n"
     ]
    },
    {
     "name": "stderr",
     "output_type": "stream",
     "text": [
      "/Users/kennethhamilton/Desktop/sdv-mostly-experiment/venv/lib/python3.10/site-packages/sklearn/decomposition/_pca.py:604: RuntimeWarning:\n",
      "\n",
      "divide by zero encountered in matmul\n",
      "\n",
      "/Users/kennethhamilton/Desktop/sdv-mostly-experiment/venv/lib/python3.10/site-packages/sklearn/decomposition/_pca.py:604: RuntimeWarning:\n",
      "\n",
      "overflow encountered in matmul\n",
      "\n",
      "/Users/kennethhamilton/Desktop/sdv-mostly-experiment/venv/lib/python3.10/site-packages/sklearn/decomposition/_pca.py:604: RuntimeWarning:\n",
      "\n",
      "invalid value encountered in matmul\n",
      "\n",
      "/Users/kennethhamilton/Desktop/sdv-mostly-experiment/venv/lib/python3.10/site-packages/sklearn/decomposition/_base.py:148: RuntimeWarning:\n",
      "\n",
      "divide by zero encountered in matmul\n",
      "\n",
      "/Users/kennethhamilton/Desktop/sdv-mostly-experiment/venv/lib/python3.10/site-packages/sklearn/decomposition/_base.py:148: RuntimeWarning:\n",
      "\n",
      "overflow encountered in matmul\n",
      "\n",
      "/Users/kennethhamilton/Desktop/sdv-mostly-experiment/venv/lib/python3.10/site-packages/sklearn/decomposition/_base.py:148: RuntimeWarning:\n",
      "\n",
      "invalid value encountered in matmul\n",
      "\n",
      "/Users/kennethhamilton/Desktop/sdv-mostly-experiment/venv/lib/python3.10/site-packages/sklearn/decomposition/_base.py:148: RuntimeWarning:\n",
      "\n",
      "divide by zero encountered in matmul\n",
      "\n",
      "/Users/kennethhamilton/Desktop/sdv-mostly-experiment/venv/lib/python3.10/site-packages/sklearn/decomposition/_base.py:148: RuntimeWarning:\n",
      "\n",
      "overflow encountered in matmul\n",
      "\n",
      "/Users/kennethhamilton/Desktop/sdv-mostly-experiment/venv/lib/python3.10/site-packages/sklearn/decomposition/_base.py:148: RuntimeWarning:\n",
      "\n",
      "invalid value encountered in matmul\n",
      "\n",
      "/Users/kennethhamilton/Desktop/sdv-mostly-experiment/venv/lib/python3.10/site-packages/sklearn/decomposition/_base.py:148: RuntimeWarning:\n",
      "\n",
      "divide by zero encountered in matmul\n",
      "\n",
      "/Users/kennethhamilton/Desktop/sdv-mostly-experiment/venv/lib/python3.10/site-packages/sklearn/decomposition/_base.py:148: RuntimeWarning:\n",
      "\n",
      "overflow encountered in matmul\n",
      "\n",
      "/Users/kennethhamilton/Desktop/sdv-mostly-experiment/venv/lib/python3.10/site-packages/sklearn/decomposition/_base.py:148: RuntimeWarning:\n",
      "\n",
      "invalid value encountered in matmul\n",
      "\n"
     ]
    },
    {
     "name": "stdout",
     "output_type": "stream",
     "text": [
      "[2025-07-14 08:36:01,765] INFO   : calculate and plot distances\n",
      "[2025-07-14 08:36:01,765] INFO   : calculate distances\n",
      "[2025-07-14 08:36:02,042] INFO   : calculated DCRs for data.shape=(10000, 34) and query.shape=(10000, 34) in 0.21s\n",
      "[2025-07-14 08:36:02,252] INFO   : calculated DCRs for data.shape=(10000, 34) and query.shape=(10000, 34) in 0.21s\n",
      "[2025-07-14 08:36:02,459] INFO   : calculated DCRs for data.shape=(10000, 34) and query.shape=(10000, 34) in 0.21s\n",
      "[2025-07-14 08:36:02,464] INFO   : DCR Share: 53.0%, NNDR Ratio: 0.983 - ALL columns\n",
      "[2025-07-14 08:36:02,482] INFO   : calculated DCRs for data.shape=(10000, 3) and query.shape=(10000, 3) in 0.02s\n",
      "[2025-07-14 08:36:02,499] INFO   : calculated DCRs for data.shape=(10000, 3) and query.shape=(10000, 3) in 0.02s\n",
      "[2025-07-14 08:36:02,513] INFO   : calculated DCRs for data.shape=(10000, 3) and query.shape=(10000, 3) in 0.01s\n",
      "[2025-07-14 08:36:02,514] INFO   : DCR Share: 50.4%, NNDR Ratio: 0.892 - 3 columns [[1, 14, 15]]\n",
      "[2025-07-14 08:36:02,623] INFO   : calculated DCRs for data.shape=(10000, 16) and query.shape=(10000, 16) in 0.11s\n",
      "[2025-07-14 08:36:02,736] INFO   : calculated DCRs for data.shape=(10000, 16) and query.shape=(10000, 16) in 0.11s\n",
      "[2025-07-14 08:36:02,851] INFO   : calculated DCRs for data.shape=(10000, 16) and query.shape=(10000, 16) in 0.11s\n",
      "[2025-07-14 08:36:02,853] INFO   : DCR Share: 50.3%, NNDR Ratio: 0.643 - 16 columns [[0, 9, 10, 11, 12, 13, 16, 17, 18, 19, 24, 25, 30, 31, 32, 33]]\n",
      "[2025-07-14 08:36:02,955] INFO   : calculated DCRs for data.shape=(10000, 15) and query.shape=(10000, 15) in 0.10s\n",
      "[2025-07-14 08:36:03,065] INFO   : calculated DCRs for data.shape=(10000, 15) and query.shape=(10000, 15) in 0.11s\n",
      "[2025-07-14 08:36:03,108] INFO   : calculated DCRs for data.shape=(10000, 15) and query.shape=(10000, 15) in 0.04s\n",
      "[2025-07-14 08:36:03,109] INFO   : DCR Share: 49.0%, NNDR Ratio: 0.906 - 15 columns [[2, 3, 4, 5, 6, 7, 8, 20, 21, 22, 23, 26, 27, 28, 29]]\n",
      "[2025-07-14 08:36:03,259] INFO   : calculated DCRs for data.shape=(10000, 12) and query.shape=(10000, 12) in 0.15s\n",
      "[2025-07-14 08:36:03,486] INFO   : calculated DCRs for data.shape=(10000, 12) and query.shape=(10000, 12) in 0.23s\n",
      "[2025-07-14 08:36:03,628] INFO   : calculated DCRs for data.shape=(10000, 12) and query.shape=(10000, 12) in 0.14s\n",
      "[2025-07-14 08:36:03,630] INFO   : DCR Share: 49.7%, NNDR Ratio: 1.094 - 12 columns [[15, 6, 7, 16, 33, 0, 27, 12, 1, 19, 31, 32]]\n",
      "[2025-07-14 08:36:03,709] INFO   : calculated DCRs for data.shape=(10000, 11) and query.shape=(10000, 11) in 0.08s\n",
      "[2025-07-14 08:36:03,796] INFO   : calculated DCRs for data.shape=(10000, 11) and query.shape=(10000, 11) in 0.09s\n",
      "[2025-07-14 08:36:03,848] INFO   : calculated DCRs for data.shape=(10000, 11) and query.shape=(10000, 11) in 0.05s\n",
      "[2025-07-14 08:36:03,849] INFO   : DCR Share: 49.9%, NNDR Ratio: 0.887 - 11 columns [[17, 22, 2, 9, 5, 3, 28, 14, 30, 8, 25]]\n",
      "[2025-07-14 08:36:03,935] INFO   : calculated DCRs for data.shape=(10000, 11) and query.shape=(10000, 11) in 0.09s\n",
      "[2025-07-14 08:36:04,033] INFO   : calculated DCRs for data.shape=(10000, 11) and query.shape=(10000, 11) in 0.10s\n",
      "[2025-07-14 08:36:04,099] INFO   : calculated DCRs for data.shape=(10000, 11) and query.shape=(10000, 11) in 0.07s\n",
      "[2025-07-14 08:36:04,102] INFO   : DCR Share: 50.8%, NNDR Ratio: 0.919 - 11 columns [[10, 20, 4, 29, 21, 18, 23, 13, 24, 26, 11]]\n",
      "[2025-07-14 08:36:04,102] INFO   : DCR Share: 53.0%, NNDR Ratio: 0.983 - FINAL\n",
      "[2025-07-14 08:36:04,102] INFO   : plot and store distances\n",
      "[2025-07-14 08:36:04,120] INFO   : calculate metrics\n",
      "[2025-07-14 08:36:04,179] INFO   : report stored at sdv_qa_report.html\n",
      "📋 SDV Quality Report saved to: sdv_qa_report.html\n",
      "\n",
      "📈 SDV Quality Metrics:\n",
      "{\n",
      "    \"accuracy\": {\n",
      "        \"overall\": 0.5266328,\n",
      "        \"univariate\": 0.7170267,\n",
      "        \"bivariate\": 0.5085617,\n",
      "        \"trivariate\": 0.35431,\n",
      "        \"coherence\": null,\n",
      "        \"overall_max\": 0.9974477,\n",
      "        \"univariate_max\": 0.9991387,\n",
      "        \"bivariate_max\": 0.9978331,\n",
      "        \"trivariate_max\": 0.9953712,\n",
      "        \"coherence_max\": null\n",
      "    },\n",
      "    \"similarity\": {\n",
      "        \"cosine_similarity_training_synthetic\": 0.8679346,\n",
      "        \"cosine_similarity_training_holdout\": 0.9998619,\n",
      "        \"discriminator_auc_training_synthetic\": 1.0,\n",
      "        \"discriminator_auc_training_holdout\": 0.496\n",
      "    },\n",
      "    \"distances\": {\n",
      "        \"ims_training\": 0.0,\n",
      "        \"ims_holdout\": 0.0,\n",
      "        \"ims_trn_hol\": 0.001,\n",
      "        \"dcr_training\": 0.454,\n",
      "        \"dcr_holdout\": 0.457,\n",
      "        \"dcr_trn_hol\": 0.244,\n",
      "        \"dcr_share\": 0.53,\n",
      "        \"nndr_training\": 0.618130966222,\n",
      "        \"nndr_holdout\": 0.62867155774,\n",
      "        \"nndr_trn_hol\": 0.062904423962\n",
      "    }\n",
      "}\n",
      "\n",
      "🎯 SDV Summary:\n",
      "   Overall Accuracy: 0.527\n",
      "   DCR Share: 0.530 (higher is better for privacy)\n",
      "   DCR Training: 0.454 (higher is better for privacy)\n"
     ]
    }
   ],
   "source": [
    "print(\"📊 Evaluating SDV synthetic data quality...\")\n",
    "\n",
    "# Load the SDV synthetic dataset\n",
    "sdv_synthetic_data = pd.read_parquet(\"./data/sdv_synthetic_data.parquet\")\n",
    "\n",
    "# Run comprehensive quality assessment\n",
    "# This compares synthetic data against training and holdout sets\n",
    "report_path, metrics = qa.report(\n",
    "    syn_tgt_data=sdv_synthetic_data,  # SDV synthetic data\n",
    "    trn_tgt_data=train,  # Original training data\n",
    "    hol_tgt_data=holdout,  # Holdout data for validation\n",
    "    max_sample_size_embeddings=10_000,  # Limit sample size for efficiency\n",
    "    report_path=\"sdv_qa_report.html\",  # HTML report output\n",
    ")\n",
    "\n",
    "print(f\"📋 SDV Quality Report saved to: {report_path}\")\n",
    "print(\"\\n📈 SDV Quality Metrics:\")\n",
    "print(metrics.model_dump_json(indent=4))\n",
    "\n",
    "# Extract key metrics for comparison\n",
    "sdv_accuracy = metrics.accuracy.overall\n",
    "sdv_dcr_share = metrics.distances.dcr_share\n",
    "sdv_dcr_training = metrics.distances.dcr_training\n",
    "print(\"\\n🎯 SDV Summary:\")\n",
    "print(f\"   Overall Accuracy: {sdv_accuracy:.3f}\")\n",
    "print(f\"   DCR Share: {sdv_dcr_share:.3f} (higher is better for privacy)\")\n",
    "print(f\"   DCR Training: {sdv_dcr_training:.3f} (higher is better for privacy)\")"
   ]
  },
  {
   "cell_type": "code",
   "execution_count": 15,
   "metadata": {},
   "outputs": [
    {
     "name": "stdout",
     "output_type": "stream",
     "text": [
      "📊 Evaluating Mostly AI synthetic data quality...\n",
      "[2025-07-14 08:36:24,308] INFO   : prepared training data for accuracy: (1180973, 15)\n",
      "[2025-07-14 08:36:24,756] INFO   : prepared holdout data for accuracy: (295244, 15)\n",
      "[2025-07-14 08:36:43,992] INFO   : prepared synthetic data for accuracy: (1476217, 15)\n",
      "[2025-07-14 08:36:44,042] INFO   : encode datasets for embeddings\n"
     ]
    },
    {
     "name": "stderr",
     "output_type": "stream",
     "text": [
      "/Users/kennethhamilton/Desktop/sdv-mostly-experiment/venv/lib/python3.10/site-packages/sklearn/utils/extmath.py:350: RuntimeWarning:\n",
      "\n",
      "divide by zero encountered in matmul\n",
      "\n",
      "/Users/kennethhamilton/Desktop/sdv-mostly-experiment/venv/lib/python3.10/site-packages/sklearn/utils/extmath.py:350: RuntimeWarning:\n",
      "\n",
      "overflow encountered in matmul\n",
      "\n",
      "/Users/kennethhamilton/Desktop/sdv-mostly-experiment/venv/lib/python3.10/site-packages/sklearn/utils/extmath.py:350: RuntimeWarning:\n",
      "\n",
      "invalid value encountered in matmul\n",
      "\n",
      "/Users/kennethhamilton/Desktop/sdv-mostly-experiment/venv/lib/python3.10/site-packages/sklearn/utils/extmath.py:351: RuntimeWarning:\n",
      "\n",
      "divide by zero encountered in matmul\n",
      "\n",
      "/Users/kennethhamilton/Desktop/sdv-mostly-experiment/venv/lib/python3.10/site-packages/sklearn/utils/extmath.py:351: RuntimeWarning:\n",
      "\n",
      "overflow encountered in matmul\n",
      "\n",
      "/Users/kennethhamilton/Desktop/sdv-mostly-experiment/venv/lib/python3.10/site-packages/sklearn/utils/extmath.py:351: RuntimeWarning:\n",
      "\n",
      "invalid value encountered in matmul\n",
      "\n",
      "/Users/kennethhamilton/Desktop/sdv-mostly-experiment/venv/lib/python3.10/site-packages/sklearn/utils/extmath.py:355: RuntimeWarning:\n",
      "\n",
      "divide by zero encountered in matmul\n",
      "\n",
      "/Users/kennethhamilton/Desktop/sdv-mostly-experiment/venv/lib/python3.10/site-packages/sklearn/utils/extmath.py:355: RuntimeWarning:\n",
      "\n",
      "overflow encountered in matmul\n",
      "\n",
      "/Users/kennethhamilton/Desktop/sdv-mostly-experiment/venv/lib/python3.10/site-packages/sklearn/utils/extmath.py:355: RuntimeWarning:\n",
      "\n",
      "invalid value encountered in matmul\n",
      "\n",
      "/Users/kennethhamilton/Desktop/sdv-mostly-experiment/venv/lib/python3.10/site-packages/sklearn/utils/extmath.py:577: RuntimeWarning:\n",
      "\n",
      "divide by zero encountered in matmul\n",
      "\n",
      "/Users/kennethhamilton/Desktop/sdv-mostly-experiment/venv/lib/python3.10/site-packages/sklearn/utils/extmath.py:577: RuntimeWarning:\n",
      "\n",
      "overflow encountered in matmul\n",
      "\n",
      "/Users/kennethhamilton/Desktop/sdv-mostly-experiment/venv/lib/python3.10/site-packages/sklearn/utils/extmath.py:577: RuntimeWarning:\n",
      "\n",
      "invalid value encountered in matmul\n",
      "\n",
      "/Users/kennethhamilton/Desktop/sdv-mostly-experiment/venv/lib/python3.10/site-packages/sklearn/utils/extmath.py:590: RuntimeWarning:\n",
      "\n",
      "divide by zero encountered in matmul\n",
      "\n",
      "/Users/kennethhamilton/Desktop/sdv-mostly-experiment/venv/lib/python3.10/site-packages/sklearn/utils/extmath.py:590: RuntimeWarning:\n",
      "\n",
      "overflow encountered in matmul\n",
      "\n",
      "/Users/kennethhamilton/Desktop/sdv-mostly-experiment/venv/lib/python3.10/site-packages/sklearn/utils/extmath.py:590: RuntimeWarning:\n",
      "\n",
      "invalid value encountered in matmul\n",
      "\n"
     ]
    },
    {
     "name": "stdout",
     "output_type": "stream",
     "text": [
      "[2025-07-14 08:36:44,898] INFO   : calculated embeddings: syn=(10000, 34), trn=(10000, 34), hol=(10000, 34)\n",
      "[2025-07-14 08:36:44,899] INFO   : report accuracy and correlations\n",
      "[2025-07-14 08:36:44,899] INFO   : calculate original data bins\n",
      "[2025-07-14 08:36:46,714] INFO   : store original data bins\n",
      "[2025-07-14 08:36:46,729] INFO   : calculate synthetic data bins\n",
      "[2025-07-14 08:36:49,069] INFO   : calculate correlations\n",
      "[2025-07-14 08:36:50,266] INFO   : calculate correlations\n",
      "[2025-07-14 08:36:52,042] INFO   : calculated univariates for 15 columns in 0.70 seconds\n",
      "[2025-07-14 08:36:53,823] INFO   : calculated bivariate accuracies for 210 combinations in 1.78 seconds\n",
      "[2025-07-14 08:37:05,097] INFO   : calculated trivariate accuracies for 455 combinations in 11.27 seconds\n",
      "[2025-07-14 08:37:05,406] INFO   : calculate numeric univariate kdes\n",
      "[2025-07-14 08:37:06,377] INFO   : calculate numeric univariate kdes\n",
      "[2025-07-14 08:37:07,872] INFO   : calculate categorical univariate counts\n",
      "[2025-07-14 08:37:08,303] INFO   : calculate categorical univariate counts\n",
      "[2025-07-14 08:37:10,301] INFO   : calculated univariate bin counts for 15 columns in 0.24 seconds\n",
      "[2025-07-14 08:37:11,381] INFO   : calculated bivariate bin counts for 210 combinations in 1.08 seconds\n",
      "[2025-07-14 08:37:11,620] INFO   : calculated univariate bin counts for 15 columns in 0.22 seconds\n",
      "[2025-07-14 08:37:12,696] INFO   : calculated bivariate bin counts for 210 combinations in 1.07 seconds\n",
      "[2025-07-14 08:37:12,696] INFO   : plot univariates\n",
      "[2025-07-14 08:37:12,778] INFO   : plot bivariates\n",
      "[2025-07-14 08:37:13,218] INFO   : report similarity\n",
      "[2025-07-14 08:37:13,218] INFO   : calculate centroid similarities\n",
      "[2025-07-14 08:37:13,220] INFO   : calculated cosine similarity for trn and hol: 0.9999545\n",
      "[2025-07-14 08:37:13,221] INFO   : calculated cosine similarity for trn and syn: 0.9997243\n",
      "[2025-07-14 08:37:13,221] INFO   : calculate discriminator AUC\n",
      "[2025-07-14 08:37:14,055] INFO   : auc_scores=[0.4912, 0.4785, 0.5138, 0.479, 0.4921, 0.5022, 0.4936, 0.5045, 0.5035, 0.5142]\n",
      "[2025-07-14 08:37:14,056] INFO   : calculated AUC for trn and hol: 49.7% in 0.83 seconds\n",
      "[2025-07-14 08:37:16,082] INFO   : auc_scores=[0.6178, 0.5893, 0.6, 0.6147, 0.5935, 0.5906, 0.6002, 0.5895, 0.6016, 0.5656]\n",
      "[2025-07-14 08:37:16,084] INFO   : calculated AUC for trn and syn: 59.6% in 2.03 seconds\n",
      "[2025-07-14 08:37:16,084] INFO   : plot and store PCA similarity contours\n"
     ]
    },
    {
     "name": "stderr",
     "output_type": "stream",
     "text": [
      "/Users/kennethhamilton/Desktop/sdv-mostly-experiment/venv/lib/python3.10/site-packages/sklearn/decomposition/_pca.py:604: RuntimeWarning:\n",
      "\n",
      "divide by zero encountered in matmul\n",
      "\n",
      "/Users/kennethhamilton/Desktop/sdv-mostly-experiment/venv/lib/python3.10/site-packages/sklearn/decomposition/_pca.py:604: RuntimeWarning:\n",
      "\n",
      "overflow encountered in matmul\n",
      "\n",
      "/Users/kennethhamilton/Desktop/sdv-mostly-experiment/venv/lib/python3.10/site-packages/sklearn/decomposition/_pca.py:604: RuntimeWarning:\n",
      "\n",
      "invalid value encountered in matmul\n",
      "\n",
      "/Users/kennethhamilton/Desktop/sdv-mostly-experiment/venv/lib/python3.10/site-packages/sklearn/decomposition/_base.py:148: RuntimeWarning:\n",
      "\n",
      "divide by zero encountered in matmul\n",
      "\n",
      "/Users/kennethhamilton/Desktop/sdv-mostly-experiment/venv/lib/python3.10/site-packages/sklearn/decomposition/_base.py:148: RuntimeWarning:\n",
      "\n",
      "overflow encountered in matmul\n",
      "\n",
      "/Users/kennethhamilton/Desktop/sdv-mostly-experiment/venv/lib/python3.10/site-packages/sklearn/decomposition/_base.py:148: RuntimeWarning:\n",
      "\n",
      "invalid value encountered in matmul\n",
      "\n",
      "/Users/kennethhamilton/Desktop/sdv-mostly-experiment/venv/lib/python3.10/site-packages/sklearn/decomposition/_base.py:148: RuntimeWarning:\n",
      "\n",
      "divide by zero encountered in matmul\n",
      "\n",
      "/Users/kennethhamilton/Desktop/sdv-mostly-experiment/venv/lib/python3.10/site-packages/sklearn/decomposition/_base.py:148: RuntimeWarning:\n",
      "\n",
      "overflow encountered in matmul\n",
      "\n",
      "/Users/kennethhamilton/Desktop/sdv-mostly-experiment/venv/lib/python3.10/site-packages/sklearn/decomposition/_base.py:148: RuntimeWarning:\n",
      "\n",
      "invalid value encountered in matmul\n",
      "\n",
      "/Users/kennethhamilton/Desktop/sdv-mostly-experiment/venv/lib/python3.10/site-packages/sklearn/decomposition/_base.py:148: RuntimeWarning:\n",
      "\n",
      "divide by zero encountered in matmul\n",
      "\n",
      "/Users/kennethhamilton/Desktop/sdv-mostly-experiment/venv/lib/python3.10/site-packages/sklearn/decomposition/_base.py:148: RuntimeWarning:\n",
      "\n",
      "overflow encountered in matmul\n",
      "\n",
      "/Users/kennethhamilton/Desktop/sdv-mostly-experiment/venv/lib/python3.10/site-packages/sklearn/decomposition/_base.py:148: RuntimeWarning:\n",
      "\n",
      "invalid value encountered in matmul\n",
      "\n"
     ]
    },
    {
     "name": "stdout",
     "output_type": "stream",
     "text": [
      "[2025-07-14 08:37:17,660] INFO   : calculate and plot distances\n",
      "[2025-07-14 08:37:17,660] INFO   : calculate distances\n",
      "[2025-07-14 08:37:17,883] INFO   : calculated DCRs for data.shape=(10000, 34) and query.shape=(10000, 34) in 0.21s\n",
      "[2025-07-14 08:37:18,084] INFO   : calculated DCRs for data.shape=(10000, 34) and query.shape=(10000, 34) in 0.20s\n",
      "[2025-07-14 08:37:18,294] INFO   : calculated DCRs for data.shape=(10000, 34) and query.shape=(10000, 34) in 0.21s\n",
      "[2025-07-14 08:37:18,298] INFO   : DCR Share: 50.3%, NNDR Ratio: 0.923 - ALL columns\n",
      "[2025-07-14 08:37:18,340] INFO   : calculated DCRs for data.shape=(10000, 13) and query.shape=(10000, 13) in 0.04s\n",
      "[2025-07-14 08:37:18,381] INFO   : calculated DCRs for data.shape=(10000, 13) and query.shape=(10000, 13) in 0.04s\n",
      "[2025-07-14 08:37:18,421] INFO   : calculated DCRs for data.shape=(10000, 13) and query.shape=(10000, 13) in 0.04s\n",
      "[2025-07-14 08:37:18,422] INFO   : DCR Share: 50.3%, NNDR Ratio: 1.558 - 13 columns [[2, 3, 4, 5, 7, 20, 21, 22, 23, 26, 27, 28, 29]]\n",
      "[2025-07-14 08:37:18,452] INFO   : calculated DCRs for data.shape=(10000, 10) and query.shape=(10000, 10) in 0.03s\n",
      "[2025-07-14 08:37:18,482] INFO   : calculated DCRs for data.shape=(10000, 10) and query.shape=(10000, 10) in 0.03s\n",
      "[2025-07-14 08:37:18,514] INFO   : calculated DCRs for data.shape=(10000, 10) and query.shape=(10000, 10) in 0.03s\n",
      "[2025-07-14 08:37:18,515] INFO   : DCR Share: 50.1%, NNDR Ratio: 1.099 - 10 columns [[6, 8, 11, 12, 13, 16, 30, 31, 32, 33]]\n",
      "[2025-07-14 08:37:18,565] INFO   : calculated DCRs for data.shape=(10000, 11) and query.shape=(10000, 11) in 0.05s\n",
      "[2025-07-14 08:37:18,617] INFO   : calculated DCRs for data.shape=(10000, 11) and query.shape=(10000, 11) in 0.05s\n",
      "[2025-07-14 08:37:18,668] INFO   : calculated DCRs for data.shape=(10000, 11) and query.shape=(10000, 11) in 0.05s\n",
      "[2025-07-14 08:37:18,668] INFO   : DCR Share: 49.1%, NNDR Ratio: 1.339 - 11 columns [[0, 1, 9, 10, 14, 15, 17, 18, 19, 24, 25]]\n",
      "[2025-07-14 08:37:18,733] INFO   : calculated DCRs for data.shape=(10000, 12) and query.shape=(10000, 12) in 0.06s\n",
      "[2025-07-14 08:37:18,811] INFO   : calculated DCRs for data.shape=(10000, 12) and query.shape=(10000, 12) in 0.08s\n",
      "[2025-07-14 08:37:18,875] INFO   : calculated DCRs for data.shape=(10000, 12) and query.shape=(10000, 12) in 0.06s\n",
      "[2025-07-14 08:37:18,877] INFO   : DCR Share: 50.3%, NNDR Ratio: 0.563 - 12 columns [[32, 26, 28, 10, 33, 15, 7, 6, 25, 9, 11, 16]]\n",
      "[2025-07-14 08:37:18,935] INFO   : calculated DCRs for data.shape=(10000, 11) and query.shape=(10000, 11) in 0.06s\n",
      "[2025-07-14 08:37:18,988] INFO   : calculated DCRs for data.shape=(10000, 11) and query.shape=(10000, 11) in 0.05s\n",
      "[2025-07-14 08:37:19,068] INFO   : calculated DCRs for data.shape=(10000, 11) and query.shape=(10000, 11) in 0.08s\n",
      "[2025-07-14 08:37:19,070] INFO   : DCR Share: 50.2%, NNDR Ratio: 0.852 - 11 columns [[30, 31, 29, 4, 8, 22, 21, 14, 2, 18, 24]]\n",
      "[2025-07-14 08:37:19,166] INFO   : calculated DCRs for data.shape=(10000, 11) and query.shape=(10000, 11) in 0.10s\n",
      "[2025-07-14 08:37:19,257] INFO   : calculated DCRs for data.shape=(10000, 11) and query.shape=(10000, 11) in 0.09s\n",
      "[2025-07-14 08:37:19,345] INFO   : calculated DCRs for data.shape=(10000, 11) and query.shape=(10000, 11) in 0.09s\n",
      "[2025-07-14 08:37:19,346] INFO   : DCR Share: 49.9%, NNDR Ratio: 0.950 - 11 columns [[23, 27, 1, 12, 17, 20, 5, 3, 0, 19, 13]]\n",
      "[2025-07-14 08:37:19,346] INFO   : DCR Share: 50.3%, NNDR Ratio: 0.923 - FINAL\n",
      "[2025-07-14 08:37:19,347] INFO   : plot and store distances\n",
      "[2025-07-14 08:37:19,364] INFO   : calculate metrics\n",
      "[2025-07-14 08:37:19,423] INFO   : report stored at mostlyai_qa_report.html\n",
      "📋 Mostly AI Quality Report saved to: mostlyai_qa_report.html\n",
      "\n",
      "📈 Mostly AI Quality Metrics:\n",
      "{\n",
      "    \"accuracy\": {\n",
      "        \"overall\": 0.9778334,\n",
      "        \"univariate\": 0.9884553,\n",
      "        \"bivariate\": 0.9780976,\n",
      "        \"trivariate\": 0.9669472,\n",
      "        \"coherence\": null,\n",
      "        \"overall_max\": 0.9974477,\n",
      "        \"univariate_max\": 0.9991387,\n",
      "        \"bivariate_max\": 0.9978331,\n",
      "        \"trivariate_max\": 0.9953712,\n",
      "        \"coherence_max\": null\n",
      "    },\n",
      "    \"similarity\": {\n",
      "        \"cosine_similarity_training_synthetic\": 0.9997243,\n",
      "        \"cosine_similarity_training_holdout\": 0.9999545,\n",
      "        \"discriminator_auc_training_synthetic\": 0.596,\n",
      "        \"discriminator_auc_training_holdout\": 0.497\n",
      "    },\n",
      "    \"distances\": {\n",
      "        \"ims_training\": 0.0,\n",
      "        \"ims_holdout\": 0.0,\n",
      "        \"ims_trn_hol\": 0.0,\n",
      "        \"dcr_training\": 0.249,\n",
      "        \"dcr_holdout\": 0.25,\n",
      "        \"dcr_trn_hol\": 0.241,\n",
      "        \"dcr_share\": 0.503,\n",
      "        \"nndr_training\": 0.199990332427,\n",
      "        \"nndr_holdout\": 0.216755205284,\n",
      "        \"nndr_trn_hol\": 0.106891476421\n",
      "    }\n",
      "}\n",
      "\n",
      "🎯 Mostly AI Summary:\n",
      "   Overall Accuracy: 0.978\n",
      "   DCR Share: 0.503 (higher is better for privacy)\n",
      "   DCR Training: 0.249 (higher is better for privacy)\n"
     ]
    }
   ],
   "source": [
    "print(\"📊 Evaluating Mostly AI synthetic data quality...\")\n",
    "\n",
    "# Load the Mostly AI synthetic dataset\n",
    "mostlyai_synthetic_data = pd.read_parquet(\"./data/mostlyai_synthetic_data.parquet\")\n",
    "\n",
    "# Run comprehensive quality assessment for Mostly AI\n",
    "report_path, metrics = qa.report(\n",
    "    syn_tgt_data=mostlyai_synthetic_data,  # Mostly AI synthetic data\n",
    "    trn_tgt_data=train,  # Original training data\n",
    "    hol_tgt_data=holdout,  # Holdout data for validation\n",
    "    max_sample_size_embeddings=10_000,  # Limit sample size for efficiency\n",
    "    report_path=\"mostlyai_qa_report.html\",  # HTML report output\n",
    ")\n",
    "\n",
    "print(f\"📋 Mostly AI Quality Report saved to: {report_path}\")\n",
    "print(\"\\n📈 Mostly AI Quality Metrics:\")\n",
    "print(metrics.model_dump_json(indent=4))\n",
    "\n",
    "# Extract key metrics for comparison\n",
    "mai_accuracy = metrics.accuracy.overall\n",
    "mai_dcr_share = metrics.distances.dcr_share\n",
    "mai_dcr_training = metrics.distances.dcr_training\n",
    "print(\"\\n🎯 Mostly AI Summary:\")\n",
    "print(f\"   Overall Accuracy: {mai_accuracy:.3f}\")\n",
    "print(f\"   DCR Share: {mai_dcr_share:.3f} (higher is better for privacy)\")\n",
    "print(f\"   DCR Training: {mai_dcr_training:.3f} (higher is better for privacy)\")"
   ]
  },
  {
   "cell_type": "code",
   "execution_count": 16,
   "metadata": {},
   "outputs": [
    {
     "name": "stdout",
     "output_type": "stream",
     "text": [
      "\n",
      "============================================================\n",
      "🏆 FINAL COMPARISON\n",
      "============================================================\n",
      "SDV      - Accuracy: 0.527, DCR Share: 0.530\n",
      "MostlyAI - Accuracy: 0.978, DCR Share: 0.503\n",
      "\n",
      "Interpretation:\n",
      "• Higher accuracy = better statistical fidelity\n",
      "• Higher DCR Share = better privacy preservation (more diverse synthetic records)\n",
      "• DCR Share ~0.5 indicates good balance between utility and privacy\n",
      "• Check HTML reports for detailed analysis\n"
     ]
    }
   ],
   "source": [
    "# Add a final comparison section\n",
    "print(\"\\n\" + \"=\" * 60)\n",
    "print(\"🏆 FINAL COMPARISON\")\n",
    "print(\"=\" * 60)\n",
    "print(f\"SDV      - Accuracy: {sdv_accuracy:.3f}, DCR Share: {sdv_dcr_share:.3f}\")\n",
    "print(f\"MostlyAI - Accuracy: {mai_accuracy:.3f}, DCR Share: {mai_dcr_share:.3f}\")\n",
    "print(\"\\nInterpretation:\")\n",
    "print(\"• Higher accuracy = better statistical fidelity\")\n",
    "print(\"• Higher DCR Share = better privacy preservation (more diverse synthetic records)\")\n",
    "print(\"• DCR Share ~0.5 indicates good balance between utility and privacy\")\n",
    "print(\"• Check HTML reports for detailed analysis\")"
   ]
  }
 ],
 "metadata": {
  "application/vnd.databricks.v1+notebook": {
   "computePreferences": null,
   "dashboards": [],
   "environmentMetadata": null,
   "inputWidgetPreferences": null,
   "language": "python",
   "notebookMetadata": {
    "pythonIndentUnit": 4
   },
   "notebookName": "Julio - Adult 10 million - SDV",
   "widgets": {}
  },
  "colab": {
   "provenance": []
  },
  "kernelspec": {
   "display_name": "venv",
   "language": "python",
   "name": "python3"
  },
  "language_info": {
   "codemirror_mode": {
    "name": "ipython",
    "version": 3
   },
   "file_extension": ".py",
   "mimetype": "text/x-python",
   "name": "python",
   "nbconvert_exporter": "python",
   "pygments_lexer": "ipython3",
   "version": "3.10.18"
  }
 },
 "nbformat": 4,
 "nbformat_minor": 4
}
